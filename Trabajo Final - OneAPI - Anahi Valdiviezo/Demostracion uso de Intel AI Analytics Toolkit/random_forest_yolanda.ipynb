{
  "cells": [
    {
      "cell_type": "markdown",
      "metadata": {
        "id": "view-in-github",
        "colab_type": "text"
      },
      "source": [
        "<a href=\"https://colab.research.google.com/github/anissval/oneAPI/blob/main/Intel%20AI%20Analytics%20Toolkit/random_forest_yolanda.ipynb\" target=\"_parent\"><img src=\"https://colab.research.google.com/assets/colab-badge.svg\" alt=\"Open In Colab\"/></a>"
      ]
    },
    {
      "cell_type": "markdown",
      "id": "f5c4abc0",
      "metadata": {
        "id": "f5c4abc0"
      },
      "source": [
        "# Intel® Extension for Scikit-learn Random Forest for Yolanda dataset"
      ]
    },
    {
      "cell_type": "code",
      "source": [
        "! python -m pip install --upgrade pip\n",
        "! python -m pip install scikit-learn-intelex"
      ],
      "metadata": {
        "colab": {
          "base_uri": "https://localhost:8080/",
          "height": 0
        },
        "id": "AQe3ihkaYiXf",
        "outputId": "030e1c99-d213-4167-e1ed-ecd04731a1c6"
      },
      "id": "AQe3ihkaYiXf",
      "execution_count": 10,
      "outputs": [
        {
          "output_type": "stream",
          "name": "stdout",
          "text": [
            "Requirement already satisfied: pip in /usr/local/lib/python3.10/dist-packages (23.1.2)\n",
            "Collecting pip\n",
            "  Downloading pip-23.2.1-py3-none-any.whl (2.1 MB)\n",
            "\u001b[2K     \u001b[90m━━━━━━━━━━━━━━━━━━━━━━━━━━━━━━━━━━━━━━━━\u001b[0m \u001b[32m2.1/2.1 MB\u001b[0m \u001b[31m23.5 MB/s\u001b[0m eta \u001b[36m0:00:00\u001b[0m\n",
            "\u001b[?25hInstalling collected packages: pip\n",
            "  Attempting uninstall: pip\n",
            "    Found existing installation: pip 23.1.2\n",
            "    Uninstalling pip-23.1.2:\n",
            "      Successfully uninstalled pip-23.1.2\n",
            "Successfully installed pip-23.2.1\n",
            "Collecting scikit-learn-intelex\n",
            "  Obtaining dependency information for scikit-learn-intelex from https://files.pythonhosted.org/packages/3d/89/36bf3b024b86ae3c1de86fcaa11ef6e6dfc4d223f491cc648ce6edeea74f/scikit_learn_intelex-2023.2.1-py310-none-manylinux1_x86_64.whl.metadata\n",
            "  Downloading scikit_learn_intelex-2023.2.1-py310-none-manylinux1_x86_64.whl.metadata (12 kB)\n",
            "Collecting daal4py==2023.2.1 (from scikit-learn-intelex)\n",
            "  Obtaining dependency information for daal4py==2023.2.1 from https://files.pythonhosted.org/packages/18/7a/a3ecef294e068a38d8e8d370e84127afca3f95d726d24b044e8928aa1cf8/daal4py-2023.2.1-py310-none-manylinux1_x86_64.whl.metadata\n",
            "  Downloading daal4py-2023.2.1-py310-none-manylinux1_x86_64.whl.metadata (7.4 kB)\n",
            "Requirement already satisfied: scikit-learn>=0.22 in /usr/local/lib/python3.10/dist-packages (from scikit-learn-intelex) (1.2.2)\n",
            "Collecting daal==2023.2.1 (from daal4py==2023.2.1->scikit-learn-intelex)\n",
            "  Obtaining dependency information for daal==2023.2.1 from https://files.pythonhosted.org/packages/e0/51/9369c49b50a51279660c31b0ec22afcb649f082fd2753915d1306dc6d038/daal-2023.2.1-py2.py3-none-manylinux1_x86_64.whl.metadata\n",
            "  Downloading daal-2023.2.1-py2.py3-none-manylinux1_x86_64.whl.metadata (1.1 kB)\n",
            "Requirement already satisfied: numpy>=1.19 in /usr/local/lib/python3.10/dist-packages (from daal4py==2023.2.1->scikit-learn-intelex) (1.23.5)\n",
            "Requirement already satisfied: tbb==2021.* in /usr/local/lib/python3.10/dist-packages (from daal==2023.2.1->daal4py==2023.2.1->scikit-learn-intelex) (2021.10.0)\n",
            "Requirement already satisfied: scipy>=1.3.2 in /usr/local/lib/python3.10/dist-packages (from scikit-learn>=0.22->scikit-learn-intelex) (1.11.2)\n",
            "Requirement already satisfied: joblib>=1.1.1 in /usr/local/lib/python3.10/dist-packages (from scikit-learn>=0.22->scikit-learn-intelex) (1.3.2)\n",
            "Requirement already satisfied: threadpoolctl>=2.0.0 in /usr/local/lib/python3.10/dist-packages (from scikit-learn>=0.22->scikit-learn-intelex) (3.2.0)\n",
            "Downloading scikit_learn_intelex-2023.2.1-py310-none-manylinux1_x86_64.whl (128 kB)\n",
            "\u001b[2K   \u001b[90m━━━━━━━━━━━━━━━━━━━━━━━━━━━━━━━━━━━━━━━━\u001b[0m \u001b[32m128.7/128.7 kB\u001b[0m \u001b[31m6.9 MB/s\u001b[0m eta \u001b[36m0:00:00\u001b[0m\n",
            "\u001b[?25hDownloading daal4py-2023.2.1-py310-none-manylinux1_x86_64.whl (14.0 MB)\n",
            "\u001b[2K   \u001b[90m━━━━━━━━━━━━━━━━━━━━━━━━━━━━━━━━━━━━━━━━\u001b[0m \u001b[32m14.0/14.0 MB\u001b[0m \u001b[31m79.5 MB/s\u001b[0m eta \u001b[36m0:00:00\u001b[0m\n",
            "\u001b[?25hDownloading daal-2023.2.1-py2.py3-none-manylinux1_x86_64.whl (75.3 MB)\n",
            "\u001b[2K   \u001b[90m━━━━━━━━━━━━━━━━━━━━━━━━━━━━━━━━━━━━━━━━\u001b[0m \u001b[32m75.3/75.3 MB\u001b[0m \u001b[31m9.9 MB/s\u001b[0m eta \u001b[36m0:00:00\u001b[0m\n",
            "\u001b[?25hInstalling collected packages: daal, daal4py, scikit-learn-intelex\n",
            "Successfully installed daal-2023.2.1 daal4py-2023.2.1 scikit-learn-intelex-2023.2.1\n",
            "\u001b[33mWARNING: Running pip as the 'root' user can result in broken permissions and conflicting behaviour with the system package manager. It is recommended to use a virtual environment instead: https://pip.pypa.io/warnings/venv\u001b[0m\u001b[33m\n",
            "\u001b[0m"
          ]
        }
      ]
    },
    {
      "cell_type": "markdown",
      "source": [
        "# Resolution for Known Issue on Google Colab"
      ],
      "metadata": {
        "id": "W8bGWYtId-kw"
      },
      "id": "W8bGWYtId-kw"
    },
    {
      "cell_type": "code",
      "source": [
        "import sys\n",
        "import os\n",
        "import site\n",
        "\n",
        "sys.path.append(os.path.join(os.path.dirname(site.getsitepackages()[0]), \"site-packages\"))"
      ],
      "metadata": {
        "id": "7xcOvy_SeAZd"
      },
      "id": "7xcOvy_SeAZd",
      "execution_count": 11,
      "outputs": []
    },
    {
      "cell_type": "code",
      "source": [
        "print(os.path.join(os.path.dirname(site.getsitepackages()[0]), \"site-packages\"))"
      ],
      "metadata": {
        "colab": {
          "base_uri": "https://localhost:8080/",
          "height": 0
        },
        "id": "7e7vqyTJTl0c",
        "outputId": "2d75414f-f6a3-4d2d-a8df-b6bdb2a2cfa1"
      },
      "id": "7e7vqyTJTl0c",
      "execution_count": 12,
      "outputs": [
        {
          "output_type": "stream",
          "name": "stdout",
          "text": [
            "/usr/local/lib/python3.10/site-packages\n"
          ]
        }
      ]
    },
    {
      "cell_type": "code",
      "source": [
        "print(os.path.dirname(site.getsitepackages()[0]))"
      ],
      "metadata": {
        "colab": {
          "base_uri": "https://localhost:8080/",
          "height": 0
        },
        "id": "SEsBH75rUxHN",
        "outputId": "ea275758-15de-4ac9-b64a-317ed54605c1"
      },
      "id": "SEsBH75rUxHN",
      "execution_count": 13,
      "outputs": [
        {
          "output_type": "stream",
          "name": "stdout",
          "text": [
            "/usr/local/lib/python3.10\n"
          ]
        }
      ]
    },
    {
      "cell_type": "code",
      "source": [
        "print(sys.path.append(os.path.join(os.path.dirname(site.getsitepackages()[0]), \"site-packages\")))"
      ],
      "metadata": {
        "colab": {
          "base_uri": "https://localhost:8080/",
          "height": 0
        },
        "id": "ZAvql4VfUmh2",
        "outputId": "cc67dd49-4ed4-474d-e6ae-804d40a5c6b8"
      },
      "id": "ZAvql4VfUmh2",
      "execution_count": 14,
      "outputs": [
        {
          "output_type": "stream",
          "name": "stdout",
          "text": [
            "None\n"
          ]
        }
      ]
    },
    {
      "cell_type": "code",
      "execution_count": 15,
      "id": "23512089",
      "metadata": {
        "id": "23512089"
      },
      "outputs": [],
      "source": [
        "from timeit import default_timer as timer\n",
        "from sklearn import metrics\n",
        "from IPython.display import HTML\n",
        "from sklearn.datasets import fetch_openml\n",
        "from sklearn.model_selection import train_test_split"
      ]
    },
    {
      "cell_type": "code",
      "source": [
        "!python --version"
      ],
      "metadata": {
        "colab": {
          "base_uri": "https://localhost:8080/",
          "height": 0
        },
        "id": "x-FausO8QNGq",
        "outputId": "20838515-51ff-40f5-e98d-216d0c535f84"
      },
      "id": "x-FausO8QNGq",
      "execution_count": 16,
      "outputs": [
        {
          "output_type": "stream",
          "name": "stdout",
          "text": [
            "Python 3.10.12\n"
          ]
        }
      ]
    },
    {
      "cell_type": "markdown",
      "id": "7d0b6bb9",
      "metadata": {
        "id": "7d0b6bb9"
      },
      "source": [
        "### Download the data"
      ]
    },
    {
      "cell_type": "code",
      "execution_count": 17,
      "id": "27b99b44",
      "metadata": {
        "colab": {
          "base_uri": "https://localhost:8080/",
          "height": 0
        },
        "id": "27b99b44",
        "outputId": "dcdd83f5-bb19-47d4-aa3c-ac2436c8b4be"
      },
      "outputs": [
        {
          "output_type": "stream",
          "name": "stderr",
          "text": [
            "/usr/local/lib/python3.10/dist-packages/sklearn/datasets/_openml.py:968: FutureWarning: The default value of `parser` will change from `'liac-arff'` to `'auto'` in 1.4. You can set `parser='auto'` to silence this warning. Therefore, an `ImportError` will be raised from 1.4 if the dataset is dense and pandas is not installed. Note that the pandas parser may return different data types. See the Notes Section in fetch_openml's API doc for details.\n",
            "  warn(\n"
          ]
        }
      ],
      "source": [
        "x, y = fetch_openml(name=\"Yolanda\", return_X_y=True)"
      ]
    },
    {
      "cell_type": "markdown",
      "id": "5b3a2483",
      "metadata": {
        "id": "5b3a2483"
      },
      "source": [
        "Split the data into train and test sets"
      ]
    },
    {
      "cell_type": "code",
      "execution_count": 18,
      "id": "96e14dd7",
      "metadata": {
        "colab": {
          "base_uri": "https://localhost:8080/",
          "height": 0
        },
        "id": "96e14dd7",
        "outputId": "ed0c61bd-9708-478c-a45e-c274e921980a"
      },
      "outputs": [
        {
          "output_type": "execute_result",
          "data": {
            "text/plain": [
              "((280000, 100), (120000, 100), (280000,), (120000,))"
            ]
          },
          "metadata": {},
          "execution_count": 18
        }
      ],
      "source": [
        "x_train, x_test, y_train, y_test = train_test_split(x, y, test_size=0.3, random_state=72)\n",
        "x_train.shape, x_test.shape, y_train.shape, y_test.shape"
      ]
    },
    {
      "cell_type": "markdown",
      "id": "0341cac9",
      "metadata": {
        "id": "0341cac9"
      },
      "source": [
        "### Patch original Scikit-learn with Intel® Extension for Scikit-learn\n",
        "Intel® Extension for Scikit-learn (previously known as daal4py) contains drop-in replacement functionality for the stock Scikit-learn package. You can take advantage of the performance optimizations of Intel® Extension for Scikit-learn by adding just two lines of code before the usual Scikit-learn imports:"
      ]
    },
    {
      "cell_type": "code",
      "execution_count": 19,
      "id": "244c5bc9",
      "metadata": {
        "colab": {
          "base_uri": "https://localhost:8080/",
          "height": 0
        },
        "id": "244c5bc9",
        "outputId": "f15e3ed9-ef4b-44f5-bc84-6484c639e299"
      },
      "outputs": [
        {
          "output_type": "stream",
          "name": "stderr",
          "text": [
            "Intel(R) Extension for Scikit-learn* enabled (https://github.com/intel/scikit-learn-intelex)\n"
          ]
        }
      ],
      "source": [
        "from sklearnex import patch_sklearn\n",
        "\n",
        "patch_sklearn()"
      ]
    },
    {
      "cell_type": "markdown",
      "id": "6bb14ac8",
      "metadata": {
        "id": "6bb14ac8"
      },
      "source": [
        "Intel® Extension for Scikit-learn patching affects performance of specific Scikit-learn functionality. Refer to the [list of supported algorithms and parameters](https://intel.github.io/scikit-learn-intelex/algorithms.html) for details. In cases when unsupported parameters are used, the package fallbacks into original Scikit-learn. If the patching does not cover your scenarios, [submit an issue on GitHub](https://github.com/intel/scikit-learn-intelex/issues)."
      ]
    },
    {
      "cell_type": "markdown",
      "id": "693b4e26",
      "metadata": {
        "id": "693b4e26"
      },
      "source": [
        "Training Random Forest algorithm with Intel® Extension for Scikit-learn for Yolanda dataset"
      ]
    },
    {
      "cell_type": "code",
      "execution_count": 20,
      "id": "8fecbbb1",
      "metadata": {
        "colab": {
          "base_uri": "https://localhost:8080/",
          "height": 42
        },
        "id": "8fecbbb1",
        "outputId": "3a87a171-02ba-471b-dbbf-2dc9b089624a"
      },
      "outputs": [
        {
          "output_type": "execute_result",
          "data": {
            "text/plain": [
              "'Intel® extension for Scikit-learn time: 2081.74 s'"
            ],
            "application/vnd.google.colaboratory.intrinsic+json": {
              "type": "string"
            }
          },
          "metadata": {},
          "execution_count": 20
        }
      ],
      "source": [
        "from sklearn.ensemble import RandomForestRegressor\n",
        "\n",
        "params = {\"n_estimators\": 150, \"random_state\": 44, \"n_jobs\": -1}\n",
        "start = timer()\n",
        "rf = RandomForestRegressor(**params).fit(x_train, y_train)\n",
        "train_patched = timer() - start\n",
        "f\"Intel® extension for Scikit-learn time: {train_patched:.2f} s\""
      ]
    },
    {
      "cell_type": "markdown",
      "id": "d9279181",
      "metadata": {
        "id": "d9279181"
      },
      "source": [
        "Predict and get a result of the Random Forest algorithm with Intel® Extension for Scikit-learn"
      ]
    },
    {
      "cell_type": "code",
      "execution_count": 21,
      "id": "d05bc57b",
      "metadata": {
        "colab": {
          "base_uri": "https://localhost:8080/",
          "height": 42
        },
        "id": "d05bc57b",
        "outputId": "ddc42dba-5cd8-4797-cd9a-22f2510ef661"
      },
      "outputs": [
        {
          "output_type": "execute_result",
          "data": {
            "text/plain": [
              "'Intel® extension for Scikit-learn Mean Squared Error: 83.60018104634611'"
            ],
            "application/vnd.google.colaboratory.intrinsic+json": {
              "type": "string"
            }
          },
          "metadata": {},
          "execution_count": 21
        }
      ],
      "source": [
        "y_pred = rf.predict(x_test)\n",
        "mse_opt = metrics.mean_squared_error(y_test, y_pred)\n",
        "f\"Intel® extension for Scikit-learn Mean Squared Error: {mse_opt}\""
      ]
    },
    {
      "cell_type": "markdown",
      "id": "bd8e7b0b",
      "metadata": {
        "id": "bd8e7b0b"
      },
      "source": [
        "### Train the same algorithm with original Scikit-learn\n",
        "In order to cancel optimizations, we use *unpatch_sklearn* and reimport the class RandomForestRegressor."
      ]
    },
    {
      "cell_type": "code",
      "execution_count": 22,
      "id": "5bb884d5",
      "metadata": {
        "id": "5bb884d5"
      },
      "outputs": [],
      "source": [
        "from sklearnex import unpatch_sklearn\n",
        "\n",
        "unpatch_sklearn()"
      ]
    },
    {
      "cell_type": "markdown",
      "id": "8cfa0dba",
      "metadata": {
        "id": "8cfa0dba"
      },
      "source": [
        "Training Random Forest algorithm with original Scikit-learn library for Yolanda dataset"
      ]
    },
    {
      "cell_type": "code",
      "execution_count": 23,
      "id": "76a8d5f1",
      "metadata": {
        "colab": {
          "base_uri": "https://localhost:8080/",
          "height": 42
        },
        "id": "76a8d5f1",
        "outputId": "89224251-4aed-40d5-b713-f364d9f57b90"
      },
      "outputs": [
        {
          "output_type": "execute_result",
          "data": {
            "text/plain": [
              "'Original Scikit-learn time: 4453.85 s'"
            ],
            "application/vnd.google.colaboratory.intrinsic+json": {
              "type": "string"
            }
          },
          "metadata": {},
          "execution_count": 23
        }
      ],
      "source": [
        "from sklearn.ensemble import RandomForestRegressor\n",
        "\n",
        "start = timer()\n",
        "rf = RandomForestRegressor(**params).fit(x_train, y_train)\n",
        "train_unpatched = timer() - start\n",
        "f\"Original Scikit-learn time: {train_unpatched:.2f} s\""
      ]
    },
    {
      "cell_type": "markdown",
      "id": "f162fe6b",
      "metadata": {
        "id": "f162fe6b"
      },
      "source": [
        "Predict and get a result of the Random Forest algorithm with original Scikit-learn"
      ]
    },
    {
      "cell_type": "code",
      "execution_count": 24,
      "id": "d5b5e45c",
      "metadata": {
        "colab": {
          "base_uri": "https://localhost:8080/",
          "height": 42
        },
        "id": "d5b5e45c",
        "outputId": "6915c61b-183d-4a2a-b698-e5bda763bd70"
      },
      "outputs": [
        {
          "output_type": "execute_result",
          "data": {
            "text/plain": [
              "'Original Scikit-learn Mean Squared Error: 83.60018104634611'"
            ],
            "application/vnd.google.colaboratory.intrinsic+json": {
              "type": "string"
            }
          },
          "metadata": {},
          "execution_count": 24
        }
      ],
      "source": [
        "y_pred = rf.predict(x_test)\n",
        "mse_original = metrics.mean_squared_error(y_test, y_pred)\n",
        "f\"Original Scikit-learn Mean Squared Error: {mse_opt}\""
      ]
    },
    {
      "cell_type": "code",
      "execution_count": 25,
      "id": "e255e563",
      "metadata": {
        "colab": {
          "base_uri": "https://localhost:8080/",
          "height": 228
        },
        "id": "e255e563",
        "outputId": "5784982a-86f2-462c-faaa-dfc459422a74"
      },
      "outputs": [
        {
          "output_type": "execute_result",
          "data": {
            "text/plain": [
              "<IPython.core.display.HTML object>"
            ],
            "text/html": [
              "<h3>Compare MSE metric of patched Scikit-learn and original</h3>MSE metric of patched Scikit-learn: 83.60018104634611 <br>MSE metric of unpatched Scikit-learn: 83.80131297814816 <br>Metrics ratio: 0.9975998952205618 <br><h3>With Scikit-learn-intelex patching you can:</h3><ul><li>Use your Scikit-learn code for training and prediction with minimal changes (a couple of lines of code);</li><li>Fast execution training and prediction of Scikit-learn models;</li><li>Get the similar quality</li><li>Get speedup in <strong>2.1</strong> times.</li></ul>"
            ]
          },
          "metadata": {},
          "execution_count": 25
        }
      ],
      "source": [
        "HTML(\n",
        "    f\"<h3>Compare MSE metric of patched Scikit-learn and original</h3>\"\n",
        "    f\"MSE metric of patched Scikit-learn: {mse_opt} <br>\"\n",
        "    f\"MSE metric of unpatched Scikit-learn: {mse_original} <br>\"\n",
        "    f\"Metrics ratio: {mse_opt/mse_original} <br>\"\n",
        "    f\"<h3>With Scikit-learn-intelex patching you can:</h3>\"\n",
        "    f\"<ul>\"\n",
        "    f\"<li>Use your Scikit-learn code for training and prediction with minimal changes (a couple of lines of code);</li>\"\n",
        "    f\"<li>Fast execution training and prediction of Scikit-learn models;</li>\"\n",
        "    f\"<li>Get the similar quality</li>\"\n",
        "    f\"<li>Get speedup in <strong>{(train_unpatched/train_patched):.1f}</strong> times.</li>\"\n",
        "    f\"</ul>\"\n",
        ")"
      ]
    }
  ],
  "metadata": {
    "kernelspec": {
      "display_name": "Python 3 (ipykernel)",
      "language": "python",
      "name": "python3"
    },
    "language_info": {
      "codemirror_mode": {
        "name": "ipython",
        "version": 3
      },
      "file_extension": ".py",
      "mimetype": "text/x-python",
      "name": "python",
      "nbconvert_exporter": "python",
      "pygments_lexer": "ipython3",
      "version": "3.8.12"
    },
    "colab": {
      "provenance": [],
      "include_colab_link": true
    }
  },
  "nbformat": 4,
  "nbformat_minor": 5
}